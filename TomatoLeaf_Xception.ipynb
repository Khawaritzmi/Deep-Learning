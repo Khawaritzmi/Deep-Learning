{
  "nbformat": 4,
  "nbformat_minor": 0,
  "metadata": {
    "colab": {
      "name": "TomatoLeaf_Xception.ipynb",
      "provenance": [],
      "mount_file_id": "1qewWeCBH2H6x3mFKdUJRTOxljiQRXk_h",
      "authorship_tag": "ABX9TyNOOmCxdRuPUndeYwNWgL/U",
      "include_colab_link": true
    },
    "kernelspec": {
      "name": "python3",
      "display_name": "Python 3"
    },
    "accelerator": "GPU"
  },
  "cells": [
    {
      "cell_type": "markdown",
      "metadata": {
        "id": "view-in-github",
        "colab_type": "text"
      },
      "source": [
        "<a href=\"https://colab.research.google.com/github/Khawaritzmi/Deep-Learning/blob/master/TomatoLeaf_Xception.ipynb\" target=\"_parent\"><img src=\"https://colab.research.google.com/assets/colab-badge.svg\" alt=\"Open In Colab\"/></a>"
      ]
    },
    {
      "cell_type": "code",
      "metadata": {
        "id": "kfOBPQ-cZr1n",
        "colab_type": "code",
        "outputId": "6a79d754-6a6b-4d25-8571-d376578e4133",
        "colab": {
          "base_uri": "https://localhost:8080/",
          "height": 34
        }
      },
      "source": [
        "%cd \"/content/drive/My Drive/Tomato_Leaf_Dataset/Tomato_Leaf/lambace\""
      ],
      "execution_count": 2,
      "outputs": [
        {
          "output_type": "stream",
          "text": [
            "/content/drive/My Drive/Tomato_Leaf_Dataset/Tomato_Leaf/lambace\n"
          ],
          "name": "stdout"
        }
      ]
    },
    {
      "cell_type": "code",
      "metadata": {
        "id": "CnW5iaVffwx_",
        "colab_type": "code",
        "colab": {
          "base_uri": "https://localhost:8080/",
          "height": 136
        },
        "outputId": "3bdbe0cb-9c1f-49e2-b395-93c11b840f9a"
      },
      "source": [
        "import tensorflow.compat.v1 as tf\n",
        "tf.disable_v2_behavior()"
      ],
      "execution_count": 3,
      "outputs": [
        {
          "output_type": "display_data",
          "data": {
            "text/html": [
              "<p style=\"color: red;\">\n",
              "The default version of TensorFlow in Colab will soon switch to TensorFlow 2.x.<br>\n",
              "We recommend you <a href=\"https://www.tensorflow.org/guide/migrate\" target=\"_blank\">upgrade</a> now \n",
              "or ensure your notebook will continue to use TensorFlow 1.x via the <code>%tensorflow_version 1.x</code> magic:\n",
              "<a href=\"https://colab.research.google.com/notebooks/tensorflow_version.ipynb\" target=\"_blank\">more info</a>.</p>\n"
            ],
            "text/plain": [
              "<IPython.core.display.HTML object>"
            ]
          },
          "metadata": {
            "tags": []
          }
        },
        {
          "output_type": "stream",
          "text": [
            "WARNING:tensorflow:From /tensorflow-1.15.0/python3.6/tensorflow_core/python/compat/v2_compat.py:68: disable_resource_variables (from tensorflow.python.ops.variable_scope) is deprecated and will be removed in a future version.\n",
            "Instructions for updating:\n",
            "non-resource variables are not supported in the long term\n"
          ],
          "name": "stdout"
        }
      ]
    },
    {
      "cell_type": "code",
      "metadata": {
        "id": "EGLGj53VjDj_",
        "colab_type": "code",
        "colab": {
          "base_uri": "https://localhost:8080/",
          "height": 34
        },
        "outputId": "287e10ff-7a77-45b5-c5a7-bf23e0e242d4"
      },
      "source": [
        "import numpy as np\n",
        "import pickle\n",
        "import cv2\n",
        "import keras\n",
        "\n",
        "from keras.applications.xception import Xception\n",
        "from keras.preprocessing import image\n",
        "from keras.layers import Conv2D, MaxPooling2D, GlobalAveragePooling2D\n",
        "from keras.layers import Flatten, Dense\n",
        "from keras.models import Model\n",
        "from keras.layers import BatchNormalization\n",
        "\n",
        "from os import listdir\n",
        "from keras import backend as K\n",
        "from keras.layers import Input\n",
        "from keras.optimizers import Adam\n",
        "from keras.preprocessing.image import ImageDataGenerator\n",
        "from keras.preprocessing import image\n",
        "from keras.preprocessing.image import img_to_array\n",
        "from sklearn.preprocessing import MultiLabelBinarizer\n",
        "from sklearn.preprocessing import LabelBinarizer\n",
        "from sklearn.model_selection import train_test_split\n",
        "\n",
        "import matplotlib.pyplot as plt"
      ],
      "execution_count": 4,
      "outputs": [
        {
          "output_type": "stream",
          "text": [
            "Using TensorFlow backend.\n"
          ],
          "name": "stderr"
        }
      ]
    },
    {
      "cell_type": "code",
      "metadata": {
        "id": "AejYHHrzjG6m",
        "colab_type": "code",
        "colab": {}
      },
      "source": [
        "EPOCHS = 50\n",
        "INIT_LR = 1e-3\n",
        "BS = 32\n",
        "default_image_size = tuple((299, 299))\n",
        "image_size = 0\n",
        "directory_root = \"/content/drive/My Drive/Tomato_Leaf_Dataset/Tomato_Leaf/\"\n",
        "width=299\n",
        "height=299\n",
        "depth=3"
      ],
      "execution_count": 0,
      "outputs": []
    },
    {
      "cell_type": "code",
      "metadata": {
        "id": "68PHyOPrjJjR",
        "colab_type": "code",
        "colab": {}
      },
      "source": [
        "def convert_image_to_array(image_dir):\n",
        "    try:\n",
        "        image = cv2.imread(image_dir)\n",
        "        if image is not None :\n",
        "            image = cv2.resize(image, default_image_size)   \n",
        "            return img_to_array(image)\n",
        "        else :\n",
        "            return np.array([])\n",
        "    except Exception as e:\n",
        "        print(f\"Error : {e}\")\n",
        "        return None"
      ],
      "execution_count": 0,
      "outputs": []
    },
    {
      "cell_type": "code",
      "metadata": {
        "id": "FfnIEBgFjrS9",
        "colab_type": "code",
        "outputId": "eba104bb-de70-4f0f-a811-452e62fc6081",
        "colab": {
          "base_uri": "https://localhost:8080/",
          "height": 190
        }
      },
      "source": [
        "image_list, label_list = [], []\n",
        "try:\n",
        "    print(\"[INFO] Loading images ...\")\n",
        "    root_dir = listdir(directory_root)\n",
        "    for directory in root_dir :\n",
        "        # remove .DS_Store from list\n",
        "        if directory == \".DS_Store\" :\n",
        "            root_dir.remove(directory)\n",
        "\n",
        "    for plant_folder in root_dir :\n",
        "        plant_disease_folder_list = listdir(f\"{directory_root}/{plant_folder}\")\n",
        "        \n",
        "        for disease_folder in plant_disease_folder_list :\n",
        "            # remove .DS_Store from list\n",
        "            if disease_folder == \".DS_Store\" :\n",
        "                plant_disease_folder_list.remove(disease_folder)\n",
        "\n",
        "        for plant_disease_folder in plant_disease_folder_list:\n",
        "            print(f\"[INFO] Processing {plant_disease_folder} ...\")\n",
        "            plant_disease_image_list = listdir(f\"{directory_root}/{plant_folder}/{plant_disease_folder}/\")\n",
        "                \n",
        "            for single_plant_disease_image in plant_disease_image_list :\n",
        "                if single_plant_disease_image == \".DS_Store\" :\n",
        "                    plant_disease_image_list.remove(single_plant_disease_image)\n",
        "\n",
        "            for image in plant_disease_image_list[:200]:\n",
        "                image_directory = f\"{directory_root}/{plant_folder}/{plant_disease_folder}/{image}\"\n",
        "                if image_directory.endswith(\".jpg\") == True or image_directory.endswith(\".JPG\") == True:\n",
        "                    image_list.append(convert_image_to_array(image_directory))\n",
        "                    label_list.append(plant_disease_folder)\n",
        "    %time print(\"[INFO] Image loading completed\")  \n",
        "except Exception as e:\n",
        "    print(f\"Error : {e}\")"
      ],
      "execution_count": 7,
      "outputs": [
        {
          "output_type": "stream",
          "text": [
            "[INFO] Loading images ...\n",
            "[INFO] Processing Tomato___Septoria_leaf_spot ...\n",
            "[INFO] Processing Tomato___Tomato_Yellow_Leaf_Curl_Virus ...\n",
            "[INFO] Processing Tomato___Late_blight ...\n",
            "[INFO] Processing Tomato___Leaf_Mold ...\n",
            "[INFO] Processing Tomato___Bacterial_spot ...\n",
            "[INFO] Processing Tomato___Early_blight ...\n",
            "[INFO] Image loading completed\n",
            "CPU times: user 331 µs, sys: 0 ns, total: 331 µs\n",
            "Wall time: 336 µs\n"
          ],
          "name": "stdout"
        }
      ]
    },
    {
      "cell_type": "code",
      "metadata": {
        "id": "w2TF5XAfmKOW",
        "colab_type": "code",
        "colab": {}
      },
      "source": [
        "image_size = len(image_list)"
      ],
      "execution_count": 0,
      "outputs": []
    },
    {
      "cell_type": "code",
      "metadata": {
        "id": "7GaH_QGBmTmV",
        "colab_type": "code",
        "colab": {}
      },
      "source": [
        "label_binarizer = LabelBinarizer()\n",
        "image_labels = label_binarizer.fit_transform(label_list)\n",
        "n_classes = len(label_binarizer.classes_)"
      ],
      "execution_count": 0,
      "outputs": []
    },
    {
      "cell_type": "code",
      "metadata": {
        "id": "H-WAZTFqmWT9",
        "colab_type": "code",
        "colab": {}
      },
      "source": [
        "np_image_list = np.array(image_list, dtype=np.float16) / 225.0"
      ],
      "execution_count": 0,
      "outputs": []
    },
    {
      "cell_type": "code",
      "metadata": {
        "id": "flyvqgfcmYGf",
        "colab_type": "code",
        "colab": {}
      },
      "source": [
        "x_train, x_test, y_train, y_test = train_test_split(np_image_list, image_labels, test_size=0.2, random_state = 42)"
      ],
      "execution_count": 0,
      "outputs": []
    },
    {
      "cell_type": "code",
      "metadata": {
        "id": "OfVQPsDDmatm",
        "colab_type": "code",
        "colab": {}
      },
      "source": [
        "aug = ImageDataGenerator(\n",
        "    rotation_range=25, width_shift_range=0.1,\n",
        "    height_shift_range=0.1, shear_range=0.2, \n",
        "    zoom_range=0.2,horizontal_flip=True, \n",
        "    fill_mode=\"nearest\")"
      ],
      "execution_count": 0,
      "outputs": []
    },
    {
      "cell_type": "code",
      "metadata": {
        "id": "Eu5_0-v7mfTQ",
        "colab_type": "code",
        "colab": {
          "base_uri": "https://localhost:8080/",
          "height": 433
        },
        "outputId": "cff218eb-b9a7-4786-f1ee-08092591cf6b"
      },
      "source": [
        "base_model = Xception(weights=None, include_top=False, input_tensor=Input(shape = (width, height, depth)))\n",
        "\n",
        "x = base_model.output\n",
        "output = BatchNormalization()(x)\n",
        "x = GlobalAveragePooling2D()(x)\n",
        "x = Dense(1024, activation='relu')(x)\n",
        "predictions = Dense(n_classes, activation='softmax')(x)\n",
        "\n",
        "model = Model(inputs=base_model.input, outputs=predictions)"
      ],
      "execution_count": 13,
      "outputs": [
        {
          "output_type": "stream",
          "text": [
            "WARNING:tensorflow:From /usr/local/lib/python3.6/dist-packages/keras/backend/tensorflow_backend.py:66: The name tf.get_default_graph is deprecated. Please use tf.compat.v1.get_default_graph instead.\n",
            "\n",
            "WARNING:tensorflow:From /usr/local/lib/python3.6/dist-packages/keras/backend/tensorflow_backend.py:541: The name tf.placeholder is deprecated. Please use tf.compat.v1.placeholder instead.\n",
            "\n",
            "WARNING:tensorflow:From /usr/local/lib/python3.6/dist-packages/keras/backend/tensorflow_backend.py:4432: The name tf.random_uniform is deprecated. Please use tf.random.uniform instead.\n",
            "\n",
            "WARNING:tensorflow:From /usr/local/lib/python3.6/dist-packages/keras/backend/tensorflow_backend.py:190: The name tf.get_default_session is deprecated. Please use tf.compat.v1.get_default_session instead.\n",
            "\n",
            "WARNING:tensorflow:From /usr/local/lib/python3.6/dist-packages/keras/backend/tensorflow_backend.py:197: The name tf.ConfigProto is deprecated. Please use tf.compat.v1.ConfigProto instead.\n",
            "\n",
            "WARNING:tensorflow:From /usr/local/lib/python3.6/dist-packages/keras/backend/tensorflow_backend.py:203: The name tf.Session is deprecated. Please use tf.compat.v1.Session instead.\n",
            "\n",
            "WARNING:tensorflow:From /usr/local/lib/python3.6/dist-packages/keras/backend/tensorflow_backend.py:207: The name tf.global_variables is deprecated. Please use tf.compat.v1.global_variables instead.\n",
            "\n",
            "WARNING:tensorflow:From /usr/local/lib/python3.6/dist-packages/keras/backend/tensorflow_backend.py:216: The name tf.is_variable_initialized is deprecated. Please use tf.compat.v1.is_variable_initialized instead.\n",
            "\n",
            "WARNING:tensorflow:From /usr/local/lib/python3.6/dist-packages/keras/backend/tensorflow_backend.py:223: The name tf.variables_initializer is deprecated. Please use tf.compat.v1.variables_initializer instead.\n",
            "\n",
            "WARNING:tensorflow:From /usr/local/lib/python3.6/dist-packages/keras/backend/tensorflow_backend.py:2041: The name tf.nn.fused_batch_norm is deprecated. Please use tf.compat.v1.nn.fused_batch_norm instead.\n",
            "\n",
            "WARNING:tensorflow:From /usr/local/lib/python3.6/dist-packages/keras/backend/tensorflow_backend.py:148: The name tf.placeholder_with_default is deprecated. Please use tf.compat.v1.placeholder_with_default instead.\n",
            "\n",
            "WARNING:tensorflow:From /usr/local/lib/python3.6/dist-packages/keras/backend/tensorflow_backend.py:4267: The name tf.nn.max_pool is deprecated. Please use tf.nn.max_pool2d instead.\n",
            "\n"
          ],
          "name": "stdout"
        }
      ]
    },
    {
      "cell_type": "code",
      "metadata": {
        "id": "C-naF-WCmjJV",
        "colab_type": "code",
        "outputId": "4fe68e65-a0ae-4ac8-fcfe-35a3e3d0def3",
        "colab": {
          "base_uri": "https://localhost:8080/",
          "height": 156
        }
      },
      "source": [
        "opt = Adam(lr=INIT_LR, decay=INIT_LR / EPOCHS)\n",
        "# distribution\n",
        "model.compile(loss=\"binary_crossentropy\", optimizer=opt,metrics=[\"accuracy\"])\n",
        "# train the network\n",
        "print(\"[INFO] training network...\")"
      ],
      "execution_count": 14,
      "outputs": [
        {
          "output_type": "stream",
          "text": [
            "WARNING:tensorflow:From /usr/local/lib/python3.6/dist-packages/keras/optimizers.py:793: The name tf.train.Optimizer is deprecated. Please use tf.compat.v1.train.Optimizer instead.\n",
            "\n",
            "WARNING:tensorflow:From /usr/local/lib/python3.6/dist-packages/keras/backend/tensorflow_backend.py:3657: The name tf.log is deprecated. Please use tf.math.log instead.\n",
            "\n",
            "WARNING:tensorflow:From /tensorflow-1.15.0/python3.6/tensorflow_core/python/ops/nn_impl.py:183: where (from tensorflow.python.ops.array_ops) is deprecated and will be removed in a future version.\n",
            "Instructions for updating:\n",
            "Use tf.where in 2.0, which has the same broadcast rule as np.where\n",
            "[INFO] training network...\n"
          ],
          "name": "stdout"
        }
      ]
    },
    {
      "cell_type": "code",
      "metadata": {
        "id": "znZk7VovmnSa",
        "colab_type": "code",
        "outputId": "160b48be-d3bf-4ed2-b5c6-eac2b540b8fe",
        "colab": {
          "base_uri": "https://localhost:8080/",
          "height": 1000
        }
      },
      "source": [
        "history = model.fit_generator(\n",
        "    aug.flow(x_train, y_train, batch_size=BS),\n",
        "    validation_data=(x_test, y_test),\n",
        "    steps_per_epoch=len(x_train) // BS,\n",
        "    epochs=EPOCHS, verbose=1\n",
        "    )"
      ],
      "execution_count": 15,
      "outputs": [
        {
          "output_type": "stream",
          "text": [
            "WARNING:tensorflow:From /usr/local/lib/python3.6/dist-packages/keras/backend/tensorflow_backend.py:1033: The name tf.assign_add is deprecated. Please use tf.compat.v1.assign_add instead.\n",
            "\n",
            "WARNING:tensorflow:From /usr/local/lib/python3.6/dist-packages/keras/backend/tensorflow_backend.py:1020: The name tf.assign is deprecated. Please use tf.compat.v1.assign instead.\n",
            "\n",
            "Epoch 1/50\n",
            "29/29 [==============================] - 43s 1s/step - loss: 0.4681 - acc: 0.8310 - val_loss: 3.6476 - val_acc: 0.7167\n",
            "Epoch 2/50\n",
            "29/29 [==============================] - 26s 883ms/step - loss: 0.3524 - acc: 0.8509 - val_loss: 1.0022 - val_acc: 0.7861\n",
            "Epoch 3/50\n",
            "29/29 [==============================] - 26s 884ms/step - loss: 0.3109 - acc: 0.8707 - val_loss: 1.2066 - val_acc: 0.7958\n",
            "Epoch 4/50\n",
            "29/29 [==============================] - 25s 879ms/step - loss: 0.2844 - acc: 0.8835 - val_loss: 3.1118 - val_acc: 0.7382\n",
            "Epoch 5/50\n",
            "29/29 [==============================] - 25s 876ms/step - loss: 0.2764 - acc: 0.8862 - val_loss: 1.2622 - val_acc: 0.7729\n",
            "Epoch 6/50\n",
            "29/29 [==============================] - 25s 877ms/step - loss: 0.2498 - acc: 0.9006 - val_loss: 3.8009 - val_acc: 0.7347\n",
            "Epoch 7/50\n",
            "29/29 [==============================] - 25s 871ms/step - loss: 0.2372 - acc: 0.9042 - val_loss: 1.4703 - val_acc: 0.7833\n",
            "Epoch 8/50\n",
            "29/29 [==============================] - 25s 872ms/step - loss: 0.1948 - acc: 0.9180 - val_loss: 3.2933 - val_acc: 0.7389\n",
            "Epoch 9/50\n",
            "29/29 [==============================] - 25s 870ms/step - loss: 0.2208 - acc: 0.9121 - val_loss: 3.1790 - val_acc: 0.7472\n",
            "Epoch 10/50\n",
            "29/29 [==============================] - 25s 862ms/step - loss: 0.1978 - acc: 0.9114 - val_loss: 0.9926 - val_acc: 0.8333\n",
            "Epoch 11/50\n",
            "29/29 [==============================] - 25s 858ms/step - loss: 0.1815 - acc: 0.9292 - val_loss: 1.5609 - val_acc: 0.7778\n",
            "Epoch 12/50\n",
            "29/29 [==============================] - 25s 860ms/step - loss: 0.1927 - acc: 0.9259 - val_loss: 1.2357 - val_acc: 0.7771\n",
            "Epoch 13/50\n",
            "29/29 [==============================] - 25s 853ms/step - loss: 0.1485 - acc: 0.9410 - val_loss: 1.7228 - val_acc: 0.7931\n",
            "Epoch 14/50\n",
            "29/29 [==============================] - 25s 858ms/step - loss: 0.1508 - acc: 0.9428 - val_loss: 2.0747 - val_acc: 0.8083\n",
            "Epoch 15/50\n",
            "29/29 [==============================] - 25s 856ms/step - loss: 0.1764 - acc: 0.9292 - val_loss: 1.6240 - val_acc: 0.7674\n",
            "Epoch 16/50\n",
            "29/29 [==============================] - 25s 859ms/step - loss: 0.1570 - acc: 0.9383 - val_loss: 1.6979 - val_acc: 0.8049\n",
            "Epoch 17/50\n",
            "29/29 [==============================] - 25s 852ms/step - loss: 0.1380 - acc: 0.9486 - val_loss: 1.1763 - val_acc: 0.8049\n",
            "Epoch 18/50\n",
            "29/29 [==============================] - 25s 856ms/step - loss: 0.1470 - acc: 0.9415 - val_loss: 1.4562 - val_acc: 0.8125\n",
            "Epoch 19/50\n",
            "29/29 [==============================] - 25s 856ms/step - loss: 0.1582 - acc: 0.9365 - val_loss: 0.7449 - val_acc: 0.8410\n",
            "Epoch 20/50\n",
            "29/29 [==============================] - 25s 855ms/step - loss: 0.1577 - acc: 0.9398 - val_loss: 0.3177 - val_acc: 0.9035\n",
            "Epoch 21/50\n",
            "29/29 [==============================] - 25s 867ms/step - loss: 0.1175 - acc: 0.9568 - val_loss: 1.2986 - val_acc: 0.7854\n",
            "Epoch 22/50\n",
            "29/29 [==============================] - 25s 867ms/step - loss: 0.1096 - acc: 0.9565 - val_loss: 0.7276 - val_acc: 0.8549\n",
            "Epoch 23/50\n",
            "29/29 [==============================] - 25s 861ms/step - loss: 0.1340 - acc: 0.9483 - val_loss: 1.2473 - val_acc: 0.7785\n",
            "Epoch 24/50\n",
            "29/29 [==============================] - 25s 866ms/step - loss: 0.1229 - acc: 0.9529 - val_loss: 1.1820 - val_acc: 0.8035\n",
            "Epoch 25/50\n",
            "29/29 [==============================] - 25s 866ms/step - loss: 0.1083 - acc: 0.9569 - val_loss: 0.7389 - val_acc: 0.8389\n",
            "Epoch 26/50\n",
            "29/29 [==============================] - 25s 868ms/step - loss: 0.1019 - acc: 0.9591 - val_loss: 1.0977 - val_acc: 0.7840\n",
            "Epoch 27/50\n",
            "29/29 [==============================] - 25s 868ms/step - loss: 0.0916 - acc: 0.9626 - val_loss: 1.1522 - val_acc: 0.8306\n",
            "Epoch 28/50\n",
            "29/29 [==============================] - 25s 865ms/step - loss: 0.1005 - acc: 0.9582 - val_loss: 2.4854 - val_acc: 0.7521\n",
            "Epoch 29/50\n",
            "29/29 [==============================] - 25s 863ms/step - loss: 0.0805 - acc: 0.9698 - val_loss: 1.4452 - val_acc: 0.8021\n",
            "Epoch 30/50\n",
            "29/29 [==============================] - 25s 862ms/step - loss: 0.0854 - acc: 0.9682 - val_loss: 0.8702 - val_acc: 0.8132\n",
            "Epoch 31/50\n",
            "29/29 [==============================] - 25s 858ms/step - loss: 0.0833 - acc: 0.9702 - val_loss: 0.7969 - val_acc: 0.8431\n",
            "Epoch 32/50\n",
            "29/29 [==============================] - 26s 882ms/step - loss: 0.0817 - acc: 0.9691 - val_loss: 0.6213 - val_acc: 0.8625\n",
            "Epoch 33/50\n",
            "29/29 [==============================] - 26s 882ms/step - loss: 0.0926 - acc: 0.9669 - val_loss: 0.5606 - val_acc: 0.8722\n",
            "Epoch 34/50\n",
            "29/29 [==============================] - 25s 873ms/step - loss: 0.0940 - acc: 0.9642 - val_loss: 0.4488 - val_acc: 0.8792\n",
            "Epoch 35/50\n",
            "29/29 [==============================] - 25s 874ms/step - loss: 0.0625 - acc: 0.9770 - val_loss: 0.8367 - val_acc: 0.8465\n",
            "Epoch 36/50\n",
            "29/29 [==============================] - 25s 868ms/step - loss: 0.0595 - acc: 0.9779 - val_loss: 0.2416 - val_acc: 0.9361\n",
            "Epoch 37/50\n",
            "29/29 [==============================] - 25s 868ms/step - loss: 0.0562 - acc: 0.9766 - val_loss: 0.5302 - val_acc: 0.8583\n",
            "Epoch 38/50\n",
            "29/29 [==============================] - 25s 872ms/step - loss: 0.0558 - acc: 0.9770 - val_loss: 0.5870 - val_acc: 0.8806\n",
            "Epoch 39/50\n",
            "29/29 [==============================] - 25s 862ms/step - loss: 0.0526 - acc: 0.9784 - val_loss: 0.2164 - val_acc: 0.9458\n",
            "Epoch 40/50\n",
            "29/29 [==============================] - 25s 859ms/step - loss: 0.0544 - acc: 0.9813 - val_loss: 0.3605 - val_acc: 0.9014\n",
            "Epoch 41/50\n",
            "29/29 [==============================] - 25s 860ms/step - loss: 0.0537 - acc: 0.9776 - val_loss: 0.6883 - val_acc: 0.8535\n",
            "Epoch 42/50\n",
            "29/29 [==============================] - 25s 853ms/step - loss: 0.0940 - acc: 0.9667 - val_loss: 0.6860 - val_acc: 0.8729\n",
            "Epoch 43/50\n",
            "29/29 [==============================] - 25s 852ms/step - loss: 0.0757 - acc: 0.9732 - val_loss: 0.1710 - val_acc: 0.9507\n",
            "Epoch 44/50\n",
            "29/29 [==============================] - 25s 855ms/step - loss: 0.0470 - acc: 0.9851 - val_loss: 0.3828 - val_acc: 0.9083\n",
            "Epoch 45/50\n",
            "29/29 [==============================] - 25s 852ms/step - loss: 0.0415 - acc: 0.9860 - val_loss: 0.5757 - val_acc: 0.8694\n",
            "Epoch 46/50\n",
            "29/29 [==============================] - 25s 853ms/step - loss: 0.0296 - acc: 0.9879 - val_loss: 0.2020 - val_acc: 0.9340\n",
            "Epoch 47/50\n",
            "29/29 [==============================] - 25s 848ms/step - loss: 0.0395 - acc: 0.9864 - val_loss: 0.1883 - val_acc: 0.9486\n",
            "Epoch 48/50\n",
            "29/29 [==============================] - 25s 855ms/step - loss: 0.0363 - acc: 0.9874 - val_loss: 0.1736 - val_acc: 0.9465\n",
            "Epoch 49/50\n",
            "29/29 [==============================] - 25s 850ms/step - loss: 0.0534 - acc: 0.9818 - val_loss: 0.2102 - val_acc: 0.9389\n",
            "Epoch 50/50\n",
            "29/29 [==============================] - 25s 852ms/step - loss: 0.0371 - acc: 0.9874 - val_loss: 0.1712 - val_acc: 0.9500\n"
          ],
          "name": "stdout"
        }
      ]
    },
    {
      "cell_type": "code",
      "metadata": {
        "id": "b35oRnE1msMO",
        "colab_type": "code",
        "colab": {
          "base_uri": "https://localhost:8080/",
          "height": 52
        },
        "outputId": "b734e186-04d8-45d4-c1e6-3ca791d46c06"
      },
      "source": [
        "scores = model.evaluate(x_test, y_test)\n",
        "print(f\"Test Accuracy: {scores[1]*100}\")"
      ],
      "execution_count": 16,
      "outputs": [
        {
          "output_type": "stream",
          "text": [
            "240/240 [==============================] - 2s 6ms/step\n",
            "Test Accuracy: 95.00000198682149\n"
          ],
          "name": "stdout"
        }
      ]
    },
    {
      "cell_type": "code",
      "metadata": {
        "id": "7KvnOPd-mx-U",
        "colab_type": "code",
        "colab": {
          "base_uri": "https://localhost:8080/",
          "height": 545
        },
        "outputId": "5b0ed36b-1ff1-4864-ea03-102f659904f5"
      },
      "source": [
        "acc = history.history['acc']\n",
        "val_acc = history.history['val_acc']\n",
        "loss = history.history['loss']\n",
        "val_loss = history.history['val_loss']\n",
        "epochs = range(1, len(acc) + 1)\n",
        "#Train and validation accuracy\n",
        "plt.plot(epochs, acc, 'b', label='Training accurarcy')\n",
        "plt.plot(epochs, val_acc, 'r', label='Validation accurarcy')\n",
        "plt.title('Training and Validation accurarcy')\n",
        "plt.legend()\n",
        "\n",
        "plt.figure()\n",
        "#Train and validation loss\n",
        "plt.plot(epochs, loss, 'b', label='Training loss')\n",
        "plt.plot(epochs, val_loss, 'r', label='Validation loss')\n",
        "plt.title('Training and Validation loss')\n",
        "plt.legend()\n",
        "plt.show()"
      ],
      "execution_count": 17,
      "outputs": [
        {
          "output_type": "display_data",
          "data": {
            "image/png": "[encoded data removed]",
            "text/plain": [
              "<Figure size 432x288 with 1 Axes>"
            ]
          },
          "metadata": {
            "tags": []
          }
        },
        {
          "output_type": "display_data",
          "data": {
            "image/png": "[encoded data removed]",
            "text/plain": [
              "<Figure size 432x288 with 1 Axes>"
            ]
          },
          "metadata": {
            "tags": []
          }
        }
      ]
    }
  ]
}